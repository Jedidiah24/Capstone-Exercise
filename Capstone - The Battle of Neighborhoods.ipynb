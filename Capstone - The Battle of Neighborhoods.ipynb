{
    "cells": [
        {
            "cell_type": "markdown",
            "metadata": {
                "collapsed": true
            },
            "source": "# Capstone Project - The Battle of the Neighborhoods (Week 1)\n\n### _Applied Data Science Capstone by IBM/Coursera_"
        },
        {
            "cell_type": "markdown",
            "metadata": {},
            "source": "## Table of contents\n* [Introduction: Business Problem](#introduction)\n* [Data](#data)"
        },
        {
            "cell_type": "markdown",
            "metadata": {},
            "source": "## Introduction: Business Problem <a name=\"introduction\"></a>\n\nToronto, the most populous city in Canada attracts both visitors and investors because of its many neighbourhoods with diverse businesses, culture and arts.\n\nThis project aims at finding best possible location for a restaurant within the neighbourhoods. This is to particularly assist a businessperson who is interested in opening a Japanese restaurant in Toronto, Ontario. Meanwhile there are a lot of restaurants in Toronto. We will try to identify locations with less or no restaurants, especially neighbourhoods with no Japanese restaurants.\n\nUsing data science approaches, we will generate a few most likely neighbourhoods, clearly expressing advantages of each area in order that the businessperson can choose the best possible location.\n"
        },
        {
            "cell_type": "markdown",
            "metadata": {},
            "source": "## Data <a name=\"data\"></a>\n"
        },
        {
            "cell_type": "code",
            "execution_count": null,
            "metadata": {},
            "outputs": [],
            "source": ""
        }
    ],
    "metadata": {
        "kernelspec": {
            "display_name": "Python 3.6",
            "language": "python",
            "name": "python3"
        },
        "language_info": {
            "codemirror_mode": {
                "name": "ipython",
                "version": 3
            },
            "file_extension": ".py",
            "mimetype": "text/x-python",
            "name": "python",
            "nbconvert_exporter": "python",
            "pygments_lexer": "ipython3",
            "version": "3.6.9"
        }
    },
    "nbformat": 4,
    "nbformat_minor": 1
}