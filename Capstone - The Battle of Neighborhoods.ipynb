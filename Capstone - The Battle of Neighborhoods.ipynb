{
    "cells": [
        {
            "metadata": {
                "collapsed": true
            },
            "cell_type": "markdown",
            "source": "# Capstone Project - The Battle of the Neighborhoods (Week 1)\n\n### _Applied Data Science Capstone by IBM/Coursera_"
        },
        {
            "metadata": {},
            "cell_type": "markdown",
            "source": "## Table of contents\n* [Introduction: Business Problem](#introduction)\n* [Data](#data)"
        },
        {
            "metadata": {},
            "cell_type": "markdown",
            "source": "## Introduction: Business Problem <a name=\"introduction\"></a>"
        },
        {
            "metadata": {},
            "cell_type": "markdown",
            "source": "\nToronto, the most populous city in Canada attracts both visitors and investors because of its many neighbourhoods with diverse businesses, culture and arts.\n\nThis project aims at finding best possible location for a restaurant within the neighbourhoods. This is to particularly assist a businessperson who is interested in opening a Japanese restaurant in Toronto, Ontario. Meanwhile there are a lot of restaurants in Toronto. We will try to identify locations with less or no restaurants, especially neighbourhoods with no Japanese restaurants.\n\nUsing data science approaches, we will generate a few most likely neighbourhoods, clearly expressing advantages of each area in order that the businessperson can choose the best possible location.\n"
        },
        {
            "metadata": {},
            "cell_type": "markdown",
            "source": "## Data <a name=\"data\"></a>\n"
        },
        {
            "metadata": {},
            "cell_type": "markdown",
            "source": "Neighbourhoods and boroughs in Toronto will be obtained from the Wikipedia page: https://en.wikipedia.org/wiki/List_of_postal_codes_of_Canada:_M. To have the Wikipedia page in a structured format for exploring and clustering the neighbourhoods in the city of Toronto, **BeautifulSoup package** (https://beautiful-soup-4.readthedocs.io/en/latest/) will be used to scrape the page, wrangle and clean the data, and read into pandas dataframe. The geographical coordinates of each Toronto\u2019s postal code area will be obtained from csv file link: http://cocl.us/Geospatial_data. \n\nBasically, results for sushi restaurants will be influenced by number of (any type of) existing restaurants in the neighbourhood, as well as number of and distance to sushi restaurants in the neighbourhoods, if any. Distance of neighbourhood from city center can also influence results for sushi restaurants. Because of this, centers of candidate areas will be **algorithmically created**. **Google Maps API reverse geocoding** will be used to obtain approximate addresses of centers of those areas. **Foursquare API** will be used to obtain number of restaurants and their type alongside location in every neighbourhood."
        },
        {
            "metadata": {},
            "cell_type": "code",
            "source": "",
            "execution_count": null,
            "outputs": []
        }
    ],
    "metadata": {
        "kernelspec": {
            "name": "python3",
            "display_name": "Python 3.6",
            "language": "python"
        },
        "language_info": {
            "name": "python",
            "version": "3.6.9",
            "mimetype": "text/x-python",
            "codemirror_mode": {
                "name": "ipython",
                "version": 3
            },
            "pygments_lexer": "ipython3",
            "nbconvert_exporter": "python",
            "file_extension": ".py"
        }
    },
    "nbformat": 4,
    "nbformat_minor": 1
}